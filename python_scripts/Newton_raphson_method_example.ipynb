{
 "metadata": {
  "language_info": {
   "codemirror_mode": {
    "name": "ipython",
    "version": 3
   },
   "file_extension": ".py",
   "mimetype": "text/x-python",
   "name": "python",
   "nbconvert_exporter": "python",
   "pygments_lexer": "ipython3",
   "version": "3.7.4"
  },
  "orig_nbformat": 2,
  "kernelspec": {
   "name": "python3",
   "display_name": "Python 3.7.4 64-bit",
   "metadata": {
    "interpreter": {
     "hash": "01fd67ca234cfc2efec5a9288e528a7801bcd1319009259bb70e85eb7001dfb7"
    }
   }
  }
 },
 "nbformat": 4,
 "nbformat_minor": 2,
 "cells": [
  {
   "cell_type": "code",
   "execution_count": null,
   "metadata": {},
   "outputs": [],
   "source": [
    "import math\n",
    "from matplotlib import pyplot as plt\n",
    "import numpy as np\n",
    "from sympy import Symbol, Derivative"
   ]
  },
  {
   "cell_type": "code",
   "execution_count": 2,
   "metadata": {},
   "outputs": [],
   "source": [
    "def function(x):\n",
    "    return x**3 - 4*x**2 + 1\n",
    "def function_deriv(x):\n",
    "    return 3*x**2 - 8*x"
   ]
  },
  {
   "cell_type": "code",
   "execution_count": 3,
   "metadata": {},
   "outputs": [],
   "source": [
    "def function2(x):\n",
    "    return x**2 - 1\n",
    "def function2_deriv(x):\n",
    "    return 2*x"
   ]
  },
  {
   "cell_type": "code",
   "execution_count": 4,
   "metadata": {},
   "outputs": [],
   "source": [
    "initial_guess = -100.0\n",
    "def approximate_root(initial_guess):\n",
    "    return initial_guess - (function2(initial_guess)/\n",
    "                            function2_deriv(initial_guess))"
   ]
  },
  {
   "cell_type": "code",
   "execution_count": 5,
   "metadata": {},
   "outputs": [],
   "source": [
    "def found_within_tolerance(initial_guess, tolerance = 1.0e-12):\n",
    "    return abs(initial_guess - \n",
    "               approximate_root(initial_guess)) <= tolerance"
   ]
  },
  {
   "cell_type": "code",
   "execution_count": 6,
   "metadata": {},
   "outputs": [
    {
     "output_type": "stream",
     "name": "stdout",
     "text": [
      "-1.000000000000000000\n"
     ]
    }
   ],
   "source": [
    "while not found_within_tolerance(initial_guess):\n",
    "    initial_guess = approximate_root(initial_guess)\n",
    "print(str.format('{0:.18f}',approximate_root(initial_guess)))"
   ]
  },
  {
   "cell_type": "code",
   "execution_count": null,
   "metadata": {},
   "outputs": [],
   "source": []
  }
 ]
}